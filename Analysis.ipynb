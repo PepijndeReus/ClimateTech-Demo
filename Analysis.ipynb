{
 "cells": [
  {
   "cell_type": "markdown",
   "id": "5b121fae",
   "metadata": {},
   "source": [
    "# Climate Tech Amsterdam\n",
    "In this notebook we will conduct an experiment \n",
    "https://pypi.org/project/pyRAPL/"
   ]
  },
  {
   "cell_type": "code",
   "execution_count": null,
   "id": "2912ac51",
   "metadata": {},
   "outputs": [],
   "source": [
    "# installing all packages\n",
    "%%capture\n",
    "!pip install DataSynthesizer\n",
    "!pip install pandas\n",
    "!pip install numpy\n",
    "!pip install pyRAPL"
   ]
  },
  {
   "cell_type": "code",
   "execution_count": 1,
   "id": "d3b8c597",
   "metadata": {},
   "outputs": [
    {
     "ename": "ModuleNotFoundError",
     "evalue": "No module named 'ARX'",
     "output_type": "error",
     "traceback": [
      "\u001b[0;31m---------------------------------------------------------------------------\u001b[0m",
      "\u001b[0;31mModuleNotFoundError\u001b[0m                       Traceback (most recent call last)",
      "Cell \u001b[0;32mIn[1], line 4\u001b[0m\n\u001b[1;32m      2\u001b[0m \u001b[38;5;28;01mimport\u001b[39;00m \u001b[38;5;21;01mnumpy\u001b[39;00m \u001b[38;5;28;01mas\u001b[39;00m \u001b[38;5;21;01mnp\u001b[39;00m\n\u001b[1;32m      3\u001b[0m \u001b[38;5;28;01mimport\u001b[39;00m \u001b[38;5;21;01mDataSynthesizer\u001b[39;00m\n\u001b[0;32m----> 4\u001b[0m \u001b[38;5;28;01mimport\u001b[39;00m \u001b[38;5;21;01mARX\u001b[39;00m\n",
      "\u001b[0;31mModuleNotFoundError\u001b[0m: No module named 'ARX'"
     ]
    }
   ],
   "source": [
    "# install packages\n",
    "import pandas as pd\n",
    "import numpy as np\n",
    "import DataSynthesizer\n",
    "import ARX\n",
    "import pyRAPL"
   ]
  },
  {
   "cell_type": "markdown",
   "id": "5c42d589",
   "metadata": {},
   "source": [
    "# Looking at the data\n",
    "Here follows some text"
   ]
  },
  {
   "cell_type": "code",
   "execution_count": null,
   "id": "5b193c71",
   "metadata": {},
   "outputs": [],
   "source": []
  }
 ],
 "metadata": {
  "kernelspec": {
   "display_name": "Python 3 (ipykernel)",
   "language": "python",
   "name": "python3"
  },
  "language_info": {
   "codemirror_mode": {
    "name": "ipython",
    "version": 3
   },
   "file_extension": ".py",
   "mimetype": "text/x-python",
   "name": "python",
   "nbconvert_exporter": "python",
   "pygments_lexer": "ipython3",
   "version": "3.10.9"
  }
 },
 "nbformat": 4,
 "nbformat_minor": 5
}
