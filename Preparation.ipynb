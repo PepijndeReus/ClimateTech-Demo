{
 "cells": [
  {
   "cell_type": "code",
   "execution_count": 2,
   "id": "d1f1039f",
   "metadata": {},
   "outputs": [
    {
     "name": "stderr",
     "output_type": "stream",
     "text": [
      "/var/folders/sb/lv2pw52n3ts7sp0k3r5x6d900000gn/T/ipykernel_7097/1549886254.py:39: FutureWarning: The default value of regex will change from True to False in a future version.\n",
      "  adult['income'] = adult['income'].str.replace('<=50K.', '<=50K')\n",
      "/var/folders/sb/lv2pw52n3ts7sp0k3r5x6d900000gn/T/ipykernel_7097/1549886254.py:40: FutureWarning: The default value of regex will change from True to False in a future version.\n",
      "  adult['income'] = adult['income'].str.replace('>50K.', '>50K')\n"
     ]
    }
   ],
   "source": [
    "\"\"\"\n",
    "Data cleaning for adult\n",
    "\"\"\"\n",
    "\n",
    "# import modules\n",
    "import pandas as pd\n",
    "import os\n",
    "import numpy as np\n",
    "\n",
    "# load data, use columns from adult.names file\n",
    "columns = [\"age\", \"type_employer\", \"fnlwgt\", \"education\", \"education_num\",\"marital\", \"occupation\", \"relationship\", \"race\",\"sex\",\"capital_gain\", \"capital_loss\", \"hr_per_week\",\"country\", \"income\"]\n",
    "adult = pd.read_csv(\"./Adult/adult.data\", sep=\",\\s\",names=columns,na_values=[\"?\"], engine='python')\n",
    "# print(f\"Length before cleaning: {len(adult)}\")\n",
    "\n",
    "# delete unnecessary columns\n",
    "adult = adult.drop('education_num', axis=1)\n",
    "adult = adult.drop('fnlwgt', axis=1)\n",
    "\n",
    "# since only 1 entry for entire set, remove this column\n",
    "adult = adult[adult.country != 'Holand-Netherlands']\n",
    "\n",
    "# drop NA values from data set\n",
    "adult = adult.dropna()\n",
    "# print(f\"Length after cleaning: {len(adult)}\")\n",
    "\n",
    "adult.to_csv('./Adult/Adult_train.csv', index=False)\n",
    "# print(\"Training set saved!\\n\")\n",
    "\n",
    "#################### and now for the validation set ####################\n",
    "\n",
    "# load data, use columns from adult.names file\n",
    "columns = [\"age\", \"type_employer\", \"fnlwgt\", \"education\", \"education_num\",\"marital\", \"occupation\", \"relationship\", \"race\",\"sex\",\"capital_gain\", \"capital_loss\", \"hr_per_week\",\"country\", \"income\"]\n",
    "adult = pd.read_csv(\"./Adult/adult.test\", sep=\",\\s\",names=columns,na_values=[\"?\"], engine='python')\n",
    "# print(f\"Length before cleaning: {len(adult)}\")\n",
    "\n",
    "# delete unnecessary columns\n",
    "adult = adult.drop('education_num', axis=1)\n",
    "adult = adult.drop('fnlwgt', axis=1)\n",
    "adult['income'] = adult['income'].str.replace('<=50K.', '<=50K')\n",
    "adult['income'] = adult['income'].str.replace('>50K.', '>50K')\n",
    "\n",
    "# drop NA values from data set\n",
    "adult = adult.dropna()\n",
    "# print(f\"Length after cleaning: {len(adult)}\")\n",
    "\n",
    "adult.to_csv('./Adult/Adult_val.csv', index=False)\n",
    "# print(\"Validation set saved!\")\n"
   ]
  },
  {
   "cell_type": "code",
   "execution_count": null,
   "id": "316aa3f9",
   "metadata": {},
   "outputs": [],
   "source": []
  }
 ],
 "metadata": {
  "kernelspec": {
   "display_name": "Python 3 (ipykernel)",
   "language": "python",
   "name": "python3"
  },
  "language_info": {
   "codemirror_mode": {
    "name": "ipython",
    "version": 3
   },
   "file_extension": ".py",
   "mimetype": "text/x-python",
   "name": "python",
   "nbconvert_exporter": "python",
   "pygments_lexer": "ipython3",
   "version": "3.10.9"
  }
 },
 "nbformat": 4,
 "nbformat_minor": 5
}
